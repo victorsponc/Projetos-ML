{
 "cells": [
  {
   "cell_type": "code",
   "execution_count": 1,
   "metadata": {
    "execution": {
     "iopub.execute_input": "2021-06-13T15:06:24.358531Z",
     "iopub.status.busy": "2021-06-13T15:06:24.358203Z",
     "iopub.status.idle": "2021-06-13T15:06:24.440715Z",
     "shell.execute_reply": "2021-06-13T15:06:24.439657Z",
     "shell.execute_reply.started": "2021-06-13T15:06:24.358459Z"
    }
   },
   "outputs": [],
   "source": [
    "import pandas as pd\n",
    "import numpy as np\n",
    "import warnings\n",
    "warnings.filterwarnings(\"ignore\")\n",
    "\n",
    "df = pd.read_csv(\"treino.csv\")\n",
    "teste = pd.read_csv(\"teste.csv\")"
   ]
  },
  {
   "cell_type": "code",
   "execution_count": null,
   "metadata": {
    "execution": {
     "iopub.execute_input": "2021-06-13T15:06:24.443008Z",
     "iopub.status.busy": "2021-06-13T15:06:24.442713Z",
     "iopub.status.idle": "2021-06-13T15:06:24.473813Z",
     "shell.execute_reply": "2021-06-13T15:06:24.472772Z",
     "shell.execute_reply.started": "2021-06-13T15:06:24.442979Z"
    }
   },
   "outputs": [],
   "source": [
    "df.info()  #Basic informations"
   ]
  },
  {
   "cell_type": "code",
   "execution_count": null,
   "metadata": {
    "execution": {
     "iopub.execute_input": "2021-06-13T15:06:24.475735Z",
     "iopub.status.busy": "2021-06-13T15:06:24.475445Z",
     "iopub.status.idle": "2021-06-13T15:06:24.497956Z",
     "shell.execute_reply": "2021-06-13T15:06:24.496953Z",
     "shell.execute_reply.started": "2021-06-13T15:06:24.475706Z"
    }
   },
   "outputs": [],
   "source": [
    "#checking which are categorical columns\n",
    "\n",
    "for feature in df.columns:\n",
    "    if df[feature].dtype not in ['int64', 'float64']:    #dtype means datatype\n",
    "        print(f\"{feature}:{df[feature].unique()}\")"
   ]
  },
  {
   "cell_type": "code",
   "execution_count": 2,
   "metadata": {
    "execution": {
     "iopub.execute_input": "2021-06-13T15:06:24.556509Z",
     "iopub.status.busy": "2021-06-13T15:06:24.556167Z",
     "iopub.status.idle": "2021-06-13T15:06:25.007391Z",
     "shell.execute_reply": "2021-06-13T15:06:25.006333Z",
     "shell.execute_reply.started": "2021-06-13T15:06:24.556475Z"
    }
   },
   "outputs": [],
   "source": [
    "#encoding categorical variables to numeric ones\n",
    "from sklearn.preprocessing import LabelEncoder\n",
    "for c in df.columns:\n",
    "    if df[c].dtype=='object':    #Since we are encoding object datatype to integer/float\n",
    "        lbl = LabelEncoder()\n",
    "        lbl.fit(list(df[c].values))\n",
    "        df[c] = lbl.transform(df[c].values)\n",
    "\n",
    "for c in teste.columns:\n",
    "    if teste[c].dtype=='object':    #Since we are encoding object datatype to integer/float\n",
    "        lbl = LabelEncoder()\n",
    "        lbl.fit(list(teste[c].values))\n",
    "        teste[c] = lbl.transform(teste[c].values)"
   ]
  },
  {
   "cell_type": "code",
   "execution_count": null,
   "metadata": {
    "execution": {
     "iopub.execute_input": "2021-06-13T15:06:25.009373Z",
     "iopub.status.busy": "2021-06-13T15:06:25.008946Z",
     "iopub.status.idle": "2021-06-13T15:06:25.030948Z",
     "shell.execute_reply": "2021-06-13T15:06:25.029785Z",
     "shell.execute_reply.started": "2021-06-13T15:06:25.00933Z"
    },
    "scrolled": true
   },
   "outputs": [],
   "source": [
    "df.head()  #To check if properly encoded"
   ]
  },
  {
   "cell_type": "code",
   "execution_count": null,
   "metadata": {},
   "outputs": [],
   "source": [
    "teste.head()"
   ]
  },
  {
   "cell_type": "code",
   "execution_count": null,
   "metadata": {
    "execution": {
     "iopub.execute_input": "2021-06-13T15:06:25.033109Z",
     "iopub.status.busy": "2021-06-13T15:06:25.032685Z",
     "iopub.status.idle": "2021-06-13T15:06:25.056209Z",
     "shell.execute_reply": "2021-06-13T15:06:25.054916Z",
     "shell.execute_reply.started": "2021-06-13T15:06:25.033063Z"
    },
    "scrolled": true
   },
   "outputs": [],
   "source": [
    "df.info()"
   ]
  },
  {
   "cell_type": "code",
   "execution_count": null,
   "metadata": {},
   "outputs": [],
   "source": [
    "teste.info()"
   ]
  },
  {
   "cell_type": "code",
   "execution_count": null,
   "metadata": {
    "execution": {
     "iopub.execute_input": "2021-06-13T15:06:25.060178Z",
     "iopub.status.busy": "2021-06-13T15:06:25.059724Z",
     "iopub.status.idle": "2021-06-13T15:06:27.485036Z",
     "shell.execute_reply": "2021-06-13T15:06:27.484237Z",
     "shell.execute_reply.started": "2021-06-13T15:06:25.06014Z"
    }
   },
   "outputs": [],
   "source": [
    "import matplotlib.pyplot as plt\n",
    "import seaborn as sns\n",
    "%matplotlib inline\n",
    "\n",
    "plt.figure(figsize = (18,10))\n",
    "\n",
    "sns.heatmap(df.corr(), annot =True)   #Basic correlation plot to understand which features are correlated"
   ]
  },
  {
   "cell_type": "code",
   "execution_count": null,
   "metadata": {
    "execution": {
     "iopub.execute_input": "2021-06-13T15:06:27.486849Z",
     "iopub.status.busy": "2021-06-13T15:06:27.48638Z",
     "iopub.status.idle": "2021-06-13T15:06:30.516129Z",
     "shell.execute_reply": "2021-06-13T15:06:30.514977Z",
     "shell.execute_reply.started": "2021-06-13T15:06:27.486814Z"
    }
   },
   "outputs": [],
   "source": [
    "df.hist(figsize=(20,16))\n",
    "plt.show()  #showing the charts of different columns\n",
    "#This also helps in finding number of counts in each column"
   ]
  },
  {
   "cell_type": "markdown",
   "metadata": {},
   "source": [
    "Data is highly imbalanced phone service"
   ]
  },
  {
   "cell_type": "code",
   "execution_count": 3,
   "metadata": {
    "execution": {
     "iopub.execute_input": "2021-06-13T15:06:30.539189Z",
     "iopub.status.busy": "2021-06-13T15:06:30.538894Z",
     "iopub.status.idle": "2021-06-13T15:06:30.55873Z",
     "shell.execute_reply": "2021-06-13T15:06:30.557654Z",
     "shell.execute_reply.started": "2021-06-13T15:06:30.539161Z"
    }
   },
   "outputs": [],
   "source": [
    "zero  = df[df['PhoneService']==0]   #zero values in outcome column\n",
    "one = df[df['PhoneService']==1]  # one values in outcome column\n",
    "from sklearn.utils import resample\n",
    "df_minority_upsampled = resample(zero, replace = True, n_samples = 2000) \n",
    "#concatenate\n",
    "df = pd.concat([one, df_minority_upsampled])\n",
    "\n",
    "from sklearn.utils import shuffle\n",
    "df = shuffle(df) # shuffling so that there is particular sequence"
   ]
  },
  {
   "cell_type": "code",
   "execution_count": null,
   "metadata": {
    "execution": {
     "iopub.execute_input": "2021-06-13T15:06:30.560378Z",
     "iopub.status.busy": "2021-06-13T15:06:30.560083Z",
     "iopub.status.idle": "2021-06-13T15:06:33.449089Z",
     "shell.execute_reply": "2021-06-13T15:06:33.447849Z",
     "shell.execute_reply.started": "2021-06-13T15:06:30.560349Z"
    }
   },
   "outputs": [],
   "source": [
    "df.hist(figsize=(20,16))\n",
    "plt.show()"
   ]
  },
  {
   "cell_type": "code",
   "execution_count": null,
   "metadata": {
    "execution": {
     "iopub.execute_input": "2021-06-13T15:06:33.450817Z",
     "iopub.status.busy": "2021-06-13T15:06:33.450494Z",
     "iopub.status.idle": "2021-06-13T15:06:33.478855Z",
     "shell.execute_reply": "2021-06-13T15:06:33.477808Z",
     "shell.execute_reply.started": "2021-06-13T15:06:33.450788Z"
    }
   },
   "outputs": [],
   "source": [
    "#Checking which columns are mostly correlated with the target\n",
    "df.corr().abs()['Cliente'].sort_values(ascending = False)"
   ]
  },
  {
   "cell_type": "code",
   "execution_count": 11,
   "metadata": {
    "execution": {
     "iopub.execute_input": "2021-06-13T15:06:33.480561Z",
     "iopub.status.busy": "2021-06-13T15:06:33.480233Z",
     "iopub.status.idle": "2021-06-13T15:06:33.748797Z",
     "shell.execute_reply": "2021-06-13T15:06:33.747838Z",
     "shell.execute_reply.started": "2021-06-13T15:06:33.480529Z"
    }
   },
   "outputs": [],
   "source": [
    "X = df[['Contract', 'tenure', 'TechSupport', 'OnlineSecurity', 'PaperlessBilling',\n",
    "       'DeviceProtection', 'Dependents', 'OnlineBackup', 'SeniorCitizen',\n",
    "       'PaymentMethod', 'Partner', 'PhoneService', 'StreamingTV', 'StreamingMovies', 'MultipleLines', 'InternetService']] #taking only relevant columns\n",
    "y = df['Cliente']\n",
    "\n",
    "from sklearn.model_selection import train_test_split\n",
    "X_train, X_test, y_train, y_test = train_test_split(X, y, test_size = 0.35)"
   ]
  },
  {
   "cell_type": "code",
   "execution_count": 5,
   "metadata": {},
   "outputs": [
    {
     "data": {
      "text/html": [
       "<div>\n",
       "<style scoped>\n",
       "    .dataframe tbody tr th:only-of-type {\n",
       "        vertical-align: middle;\n",
       "    }\n",
       "\n",
       "    .dataframe tbody tr th {\n",
       "        vertical-align: top;\n",
       "    }\n",
       "\n",
       "    .dataframe thead th {\n",
       "        text-align: right;\n",
       "    }\n",
       "</style>\n",
       "<table border=\"1\" class=\"dataframe\">\n",
       "  <thead>\n",
       "    <tr style=\"text-align: right;\">\n",
       "      <th></th>\n",
       "      <th>SeniorCitizen</th>\n",
       "      <th>Partner</th>\n",
       "      <th>Dependents</th>\n",
       "      <th>tenure</th>\n",
       "      <th>PhoneService</th>\n",
       "      <th>MultipleLines</th>\n",
       "      <th>InternetService</th>\n",
       "      <th>OnlineSecurity</th>\n",
       "      <th>OnlineBackup</th>\n",
       "      <th>DeviceProtection</th>\n",
       "      <th>TechSupport</th>\n",
       "      <th>StreamingTV</th>\n",
       "      <th>StreamingMovies</th>\n",
       "      <th>Contract</th>\n",
       "      <th>PaperlessBilling</th>\n",
       "      <th>PaymentMethod</th>\n",
       "    </tr>\n",
       "  </thead>\n",
       "  <tbody>\n",
       "    <tr>\n",
       "      <th>0</th>\n",
       "      <td>0</td>\n",
       "      <td>1</td>\n",
       "      <td>1</td>\n",
       "      <td>23</td>\n",
       "      <td>1</td>\n",
       "      <td>0</td>\n",
       "      <td>2</td>\n",
       "      <td>1</td>\n",
       "      <td>1</td>\n",
       "      <td>1</td>\n",
       "      <td>1</td>\n",
       "      <td>1</td>\n",
       "      <td>1</td>\n",
       "      <td>1</td>\n",
       "      <td>0</td>\n",
       "      <td>3</td>\n",
       "    </tr>\n",
       "    <tr>\n",
       "      <th>1</th>\n",
       "      <td>0</td>\n",
       "      <td>0</td>\n",
       "      <td>0</td>\n",
       "      <td>27</td>\n",
       "      <td>1</td>\n",
       "      <td>0</td>\n",
       "      <td>0</td>\n",
       "      <td>2</td>\n",
       "      <td>2</td>\n",
       "      <td>0</td>\n",
       "      <td>0</td>\n",
       "      <td>0</td>\n",
       "      <td>0</td>\n",
       "      <td>0</td>\n",
       "      <td>1</td>\n",
       "      <td>3</td>\n",
       "    </tr>\n",
       "    <tr>\n",
       "      <th>2</th>\n",
       "      <td>0</td>\n",
       "      <td>0</td>\n",
       "      <td>0</td>\n",
       "      <td>2</td>\n",
       "      <td>1</td>\n",
       "      <td>0</td>\n",
       "      <td>2</td>\n",
       "      <td>1</td>\n",
       "      <td>1</td>\n",
       "      <td>1</td>\n",
       "      <td>1</td>\n",
       "      <td>1</td>\n",
       "      <td>1</td>\n",
       "      <td>0</td>\n",
       "      <td>0</td>\n",
       "      <td>3</td>\n",
       "    </tr>\n",
       "    <tr>\n",
       "      <th>3</th>\n",
       "      <td>0</td>\n",
       "      <td>0</td>\n",
       "      <td>0</td>\n",
       "      <td>48</td>\n",
       "      <td>1</td>\n",
       "      <td>0</td>\n",
       "      <td>1</td>\n",
       "      <td>2</td>\n",
       "      <td>0</td>\n",
       "      <td>2</td>\n",
       "      <td>2</td>\n",
       "      <td>2</td>\n",
       "      <td>2</td>\n",
       "      <td>2</td>\n",
       "      <td>1</td>\n",
       "      <td>1</td>\n",
       "    </tr>\n",
       "    <tr>\n",
       "      <th>4</th>\n",
       "      <td>0</td>\n",
       "      <td>1</td>\n",
       "      <td>0</td>\n",
       "      <td>71</td>\n",
       "      <td>1</td>\n",
       "      <td>0</td>\n",
       "      <td>1</td>\n",
       "      <td>0</td>\n",
       "      <td>2</td>\n",
       "      <td>2</td>\n",
       "      <td>2</td>\n",
       "      <td>2</td>\n",
       "      <td>2</td>\n",
       "      <td>2</td>\n",
       "      <td>1</td>\n",
       "      <td>2</td>\n",
       "    </tr>\n",
       "  </tbody>\n",
       "</table>\n",
       "</div>"
      ],
      "text/plain": [
       "   SeniorCitizen  Partner  Dependents  tenure  PhoneService  MultipleLines  \\\n",
       "0              0        1           1      23             1              0   \n",
       "1              0        0           0      27             1              0   \n",
       "2              0        0           0       2             1              0   \n",
       "3              0        0           0      48             1              0   \n",
       "4              0        1           0      71             1              0   \n",
       "\n",
       "   InternetService  OnlineSecurity  OnlineBackup  DeviceProtection  \\\n",
       "0                2               1             1                 1   \n",
       "1                0               2             2                 0   \n",
       "2                2               1             1                 1   \n",
       "3                1               2             0                 2   \n",
       "4                1               0             2                 2   \n",
       "\n",
       "   TechSupport  StreamingTV  StreamingMovies  Contract  PaperlessBilling  \\\n",
       "0            1            1                1         1                 0   \n",
       "1            0            0                0         0                 1   \n",
       "2            1            1                1         0                 0   \n",
       "3            2            2                2         2                 1   \n",
       "4            2            2                2         2                 1   \n",
       "\n",
       "   PaymentMethod  \n",
       "0              3  \n",
       "1              3  \n",
       "2              3  \n",
       "3              1  \n",
       "4              2  "
      ]
     },
     "execution_count": 5,
     "metadata": {},
     "output_type": "execute_result"
    }
   ],
   "source": [
    "teste = teste.drop(['gender'], axis = 1)\n",
    "teste.head()"
   ]
  },
  {
   "cell_type": "code",
   "execution_count": null,
   "metadata": {
    "execution": {
     "iopub.execute_input": "2021-06-13T15:06:33.750257Z",
     "iopub.status.busy": "2021-06-13T15:06:33.749973Z",
     "iopub.status.idle": "2021-06-13T15:13:44.331945Z",
     "shell.execute_reply": "2021-06-13T15:13:44.330965Z",
     "shell.execute_reply.started": "2021-06-13T15:06:33.750229Z"
    }
   },
   "outputs": [],
   "source": [
    "from sklearn.model_selection import RandomizedSearchCV, GridSearchCV\n",
    "from xgboost import XGBClassifier\n",
    "xgb =XGBClassifier(eval_metric = 'auc', use_label_encoder=False, objective = 'binary:logistic')\n",
    "#eval metric is auc because for classification auc metric is best\n",
    "#XGBoost\n",
    "#parameters for xgboost\n",
    "\n",
    "params_xgb = {'n_estimators': [100,400,800], 'learning_rate': [0.3, 0.35, 0.4, 0.45, 0.5, 1],\n",
    "             'max_depth': [6,8,15]}\n",
    "gs_xgb =  GridSearchCV(xgb, param_grid=params_xgb, cv=5)\n",
    "gs_xgb.fit(X_train, y_train)\n",
    "print(\"Best parameters for XGBoost:\", gs_xgb.best_params_)\n"
   ]
  },
  {
   "cell_type": "code",
   "execution_count": 12,
   "metadata": {
    "execution": {
     "iopub.execute_input": "2021-06-13T15:22:05.360274Z",
     "iopub.status.busy": "2021-06-13T15:22:05.359919Z",
     "iopub.status.idle": "2021-06-13T15:22:13.197976Z",
     "shell.execute_reply": "2021-06-13T15:22:13.196948Z",
     "shell.execute_reply.started": "2021-06-13T15:22:05.360244Z"
    }
   },
   "outputs": [],
   "source": [
    "#got the best parameters above\n",
    "from xgboost import XGBClassifier\n",
    "xgb = XGBClassifier(learning_rate = 0.5, max_depth = 8, n_estimators = 100,\n",
    "                    eval_metric = 'auc',\n",
    "                    use_label_encoder=False, \n",
    "                    objective = 'binary:logistic')"
   ]
  },
  {
   "cell_type": "code",
   "execution_count": null,
   "metadata": {
    "scrolled": true
   },
   "outputs": [],
   "source": [
    "xgb.fit(X,y)"
   ]
  },
  {
   "cell_type": "code",
   "execution_count": null,
   "metadata": {},
   "outputs": [],
   "source": [
    "pred = xgb.predict(teste[['Contract', 'tenure', 'TechSupport', 'OnlineSecurity', 'PaperlessBilling',\n",
    "       'DeviceProtection', 'Dependents', 'OnlineBackup', 'SeniorCitizen',\n",
    "       'PaymentMethod', 'Partner', 'PhoneService', 'StreamingTV', 'StreamingMovies', 'MultipleLines', 'InternetService']])"
   ]
  },
  {
   "cell_type": "code",
   "execution_count": null,
   "metadata": {},
   "outputs": [],
   "source": [
    "subm = pd.DataFrame()\n",
    "subm['Cliente'] = pred\n",
    "subm.to_csv('subm4victor.csv', index = False)"
   ]
  },
  {
   "cell_type": "code",
   "execution_count": null,
   "metadata": {},
   "outputs": [],
   "source": [
    "subm"
   ]
  },
  {
   "cell_type": "code",
   "execution_count": 13,
   "metadata": {},
   "outputs": [
    {
     "data": {
      "text/plain": [
       "XGBClassifier(base_score=0.5, booster='gbtree', colsample_bylevel=1,\n",
       "              colsample_bynode=1, colsample_bytree=1, eval_metric='auc',\n",
       "              gamma=0, gpu_id=-1, importance_type='gain',\n",
       "              interaction_constraints='', learning_rate=0.5, max_delta_step=0,\n",
       "              max_depth=8, min_child_weight=1, missing=nan,\n",
       "              monotone_constraints='()', n_estimators=100, n_jobs=4,\n",
       "              num_parallel_tree=1, random_state=0, reg_alpha=0, reg_lambda=1,\n",
       "              scale_pos_weight=1, subsample=1, tree_method='exact',\n",
       "              use_label_encoder=False, validate_parameters=1, verbosity=None)"
      ]
     },
     "execution_count": 13,
     "metadata": {},
     "output_type": "execute_result"
    }
   ],
   "source": [
    "xgb.fit(X_train, y_train)"
   ]
  },
  {
   "cell_type": "code",
   "execution_count": 14,
   "metadata": {},
   "outputs": [
    {
     "data": {
      "image/png": "[encoded data removed]",
      "text/plain": [
       "<Figure size 432x288 with 2 Axes>"
      ]
     },
     "metadata": {
      "needs_background": "light"
     },
     "output_type": "display_data"
    }
   ],
   "source": [
    "from sklearn.metrics import plot_confusion_matrix\n",
    "import matplotlib.pyplot as plt\n",
    "plot_confusion_matrix(xgb, X_test, y_test)\n",
    "plt.show()"
   ]
  },
  {
   "cell_type": "code",
   "execution_count": 15,
   "metadata": {},
   "outputs": [],
   "source": [
    "from sklearn.linear_model import LogisticRegression \n",
    "from sklearn.neighbors import KNeighborsClassifier \n",
    "from sklearn.tree import DecisionTreeClassifier \n",
    "from sklearn.ensemble import RandomForestClassifier \n",
    "from sklearn.svm import SVC \n",
    "from sklearn.naive_bayes import GaussianNB \n",
    "from sklearn.naive_bayes import MultinomialNB \n",
    "from sklearn.linear_model import SGDClassifier \n",
    "from sklearn.ensemble import GradientBoostingClassifier     \n",
    "# MÉTRICAS \n",
    "from sklearn.metrics import mean_squared_error \n",
    "from sklearn.metrics import f1_score \n",
    "from sklearn.metrics import accuracy_score \n",
    "from sklearn.metrics import precision_score \n",
    "from sklearn.metrics import balanced_accuracy_score \n",
    "from sklearn.metrics import recall_score   \n",
    "# TUNAGEM DE MODELOS \n",
    "from sklearn.ensemble import VotingClassifier \n",
    "from sklearn.ensemble import BaggingClassifier  \n",
    "# EVITAR VARIAÇÕES DO MODELO DE ACORDO COM A AMOSTRA PARA TESTE \n",
    "from sklearn.model_selection import KFold \n",
    "from sklearn.model_selection import cross_validate\n",
    "from sklearn.model_selection import train_test_split\n",
    "from sklearn.model_selection import RepeatedKFold\n",
    "from sklearn.model_selection import RepeatedStratifiedKFold\n",
    "from sklearn.model_selection import RandomizedSearchCV\n",
    "from sklearn.model_selection import GridSearchCV"
   ]
  },
  {
   "cell_type": "code",
   "execution_count": 16,
   "metadata": {},
   "outputs": [],
   "source": [
    "modelo = XGBClassifier(learning_rate = 1, max_depth = 8, n_estimators = 100,\n",
    "                    eval_metric = 'auc',\n",
    "                    use_label_encoder=False,\n",
    "                    objective = 'binary:logistic')"
   ]
  },
  {
   "cell_type": "code",
   "execution_count": 17,
   "metadata": {},
   "outputs": [],
   "source": [
    "def Hold_out_repetido(modelo, proporcao = 0.3, repeticoes = 50, x = df.drop(\"Cliente\", axis = 1)):\n",
    "    # MÉTRICAS\n",
    "    f1_treino = []\n",
    "    f1_teste = []\n",
    "    acc_treino = []\n",
    "    acc_teste = []\n",
    "    bal_acc_treino = []\n",
    "    bal_acc_teste = []\n",
    "    precision_treino = []\n",
    "    precision_teste = []\n",
    "    recall_treino = []\n",
    "    recall_teste = []\n",
    "\n",
    "    # VARIAVEIS AUXILIARES E TARGET\n",
    "\n",
    "    y = df[\"Cliente\"]\n",
    "\n",
    "    for i in range(repeticoes):\n",
    "        # SEPARAÇÃO EM TESTE E TREINO E CRIAÇÃO DO MODELO\n",
    "        x_treino, x_teste, y_treino, y_teste = train_test_split(x, y, test_size = proporcao)\n",
    "        mod = modelo\n",
    "        mod.fit(x_treino, y_treino)\n",
    "        # PREDIÇÃO DE TREINO E TESTE\n",
    "        pred_treino = mod.predict(x_treino)\n",
    "        pred_teste = mod.predict(x_teste)\n",
    "# CALCULO DAS METRICAS\n",
    "        f1_treino.append(f1_score(y_treino, pred_treino))\n",
    "        f1_teste.append(f1_score(y_teste, pred_teste))\n",
    "        acc_treino.append(accuracy_score(y_treino, pred_treino))\n",
    "        acc_teste.append(accuracy_score(y_teste, pred_teste))\n",
    "        bal_acc_treino.append(balanced_accuracy_score(y_treino, pred_treino))\n",
    "        bal_acc_teste.append(balanced_accuracy_score(y_teste, pred_teste))\n",
    "        precision_treino.append(precision_score(y_treino, pred_treino))\n",
    "        precision_teste.append(precision_score(y_teste, pred_teste))\n",
    "        recall_treino.append(recall_score(y_treino, pred_treino))\n",
    "        recall_teste.append(recall_score(y_teste, pred_teste))\n",
    "\n",
    "    # MEDIA DAS METRICAS\n",
    "    res_treino_f1 = np.array(f1_treino).mean()\n",
    "    res_teste_f1 = np.array(f1_teste).mean()\n",
    "    res_treino_acc = np.array(acc_treino).mean()\n",
    "    res_teste_acc = np.array(acc_teste).mean()\n",
    "    res_treino_bal = np.array(bal_acc_treino).mean()\n",
    "    res_teste_bal = np.array(bal_acc_teste).mean()\n",
    "    res_treino_pre = np.array(precision_treino).mean()\n",
    "    res_teste_pre = np.array(precision_teste).mean()\n",
    "    res_treino_recall = np.array(recall_treino).mean()\n",
    "    res_teste_recall = np.array(recall_teste).mean()\n",
    "\n",
    "    print(\"==\"*30)\n",
    "\n",
    "    # CRIANDO OBJETO SERIES PARA DEPOIS COMPARAR RESULTADOS EM DATAFRAME\n",
    "    indice = [\"f1-score TREINO\",\"f1-score TESTE\",\"Accuracia TREINO\", \"Accuracia TESTE\",\"Balanced Accuracy TREINO\",\n",
    "              \"Balanced Accuracy TESTE\", \"Precisão TREINO\", \"Precisão TESTE\", \"Sensibilidade TREINO\", \"Sensibilidade TESTE\"]\n",
    "\n",
    "    dados = [res_treino_f1,res_teste_f1,res_treino_acc,res_teste_acc,res_treino_bal,res_teste_bal,res_treino_pre,res_teste_pre,\n",
    "            res_treino_recall,res_teste_recall]\n",
    "\n",
    "    col = f'Modelo'\n",
    "\n",
    "    return pd.Series(data = dados, index = indice)"
   ]
  },
  {
   "cell_type": "code",
   "execution_count": 18,
   "metadata": {},
   "outputs": [
    {
     "name": "stdout",
     "output_type": "stream",
     "text": [
      "============================================================\n"
     ]
    },
    {
     "data": {
      "text/plain": [
       "f1-score TREINO             0.999646\n",
       "f1-score TESTE              0.990383\n",
       "Accuracia TREINO            0.999691\n",
       "Accuracia TESTE             0.991665\n",
       "Balanced Accuracy TREINO    0.999654\n",
       "Balanced Accuracy TESTE     0.991310\n",
       "Precisão TREINO             0.999924\n",
       "Precisão TESTE              0.992208\n",
       "Sensibilidade TREINO        0.999368\n",
       "Sensibilidade TESTE         0.988594\n",
       "dtype: float64"
      ]
     },
     "execution_count": 18,
     "metadata": {},
     "output_type": "execute_result"
    }
   ],
   "source": [
    "Hold_out_repetido(modelo=modelo)"
   ]
  },
  {
   "cell_type": "code",
   "execution_count": null,
   "metadata": {},
   "outputs": [],
   "source": []
  }
 ],
 "metadata": {
  "kernelspec": {
   "display_name": "Python 3",
   "language": "python",
   "name": "python3"
  },
  "language_info": {
   "codemirror_mode": {
    "name": "ipython",
    "version": 3
   },
   "file_extension": ".py",
   "mimetype": "text/x-python",
   "name": "python",
   "nbconvert_exporter": "python",
   "pygments_lexer": "ipython3",
   "version": "3.6.6"
  }
 },
 "nbformat": 4,
 "nbformat_minor": 4
}
