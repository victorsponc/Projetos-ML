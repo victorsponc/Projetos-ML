{
 "cells": [
  {
   "cell_type": "code",
   "execution_count": 1,
   "id": "72d8205b",
   "metadata": {},
   "outputs": [],
   "source": [
    "import pandas as pd\n",
    "\n",
    "treino = pd.read_csv('treino.csv')\n",
    "teste = pd.read_csv('teste.csv')"
   ]
  },
  {
   "cell_type": "code",
   "execution_count": 2,
   "id": "938e1391",
   "metadata": {
    "scrolled": true
   },
   "outputs": [
    {
     "data": {
      "text/html": [
       "<div>\n",
       "<style scoped>\n",
       "    .dataframe tbody tr th:only-of-type {\n",
       "        vertical-align: middle;\n",
       "    }\n",
       "\n",
       "    .dataframe tbody tr th {\n",
       "        vertical-align: top;\n",
       "    }\n",
       "\n",
       "    .dataframe thead th {\n",
       "        text-align: right;\n",
       "    }\n",
       "</style>\n",
       "<table border=\"1\" class=\"dataframe\">\n",
       "  <thead>\n",
       "    <tr style=\"text-align: right;\">\n",
       "      <th></th>\n",
       "      <th>Escolaridade</th>\n",
       "      <th>Entrada</th>\n",
       "      <th>Cidade</th>\n",
       "      <th>Salário</th>\n",
       "      <th>Idade</th>\n",
       "      <th>Sexo</th>\n",
       "      <th>Projeto</th>\n",
       "      <th>Experiência</th>\n",
       "      <th>Saiu</th>\n",
       "      <th>Feedbacks</th>\n",
       "    </tr>\n",
       "  </thead>\n",
       "  <tbody>\n",
       "    <tr>\n",
       "      <th>0</th>\n",
       "      <td>Doutorado</td>\n",
       "      <td>2016</td>\n",
       "      <td>Natal</td>\n",
       "      <td>3</td>\n",
       "      <td>28</td>\n",
       "      <td>Feminino</td>\n",
       "      <td>Não</td>\n",
       "      <td>3</td>\n",
       "      <td>0</td>\n",
       "      <td>0</td>\n",
       "    </tr>\n",
       "    <tr>\n",
       "      <th>1</th>\n",
       "      <td>Doutorado</td>\n",
       "      <td>2014</td>\n",
       "      <td>Natal</td>\n",
       "      <td>3</td>\n",
       "      <td>36</td>\n",
       "      <td>Feminino</td>\n",
       "      <td>Não</td>\n",
       "      <td>3</td>\n",
       "      <td>0</td>\n",
       "      <td>1</td>\n",
       "    </tr>\n",
       "    <tr>\n",
       "      <th>2</th>\n",
       "      <td>Doutorado</td>\n",
       "      <td>2013</td>\n",
       "      <td>Natal</td>\n",
       "      <td>3</td>\n",
       "      <td>---</td>\n",
       "      <td>Masculino</td>\n",
       "      <td>Não</td>\n",
       "      <td>0</td>\n",
       "      <td>0</td>\n",
       "      <td>0</td>\n",
       "    </tr>\n",
       "    <tr>\n",
       "      <th>3</th>\n",
       "      <td>Doutorado</td>\n",
       "      <td>2016</td>\n",
       "      <td>Natal</td>\n",
       "      <td>3</td>\n",
       "      <td>---</td>\n",
       "      <td>Masculino</td>\n",
       "      <td>Não</td>\n",
       "      <td>2</td>\n",
       "      <td>1</td>\n",
       "      <td>0</td>\n",
       "    </tr>\n",
       "    <tr>\n",
       "      <th>4</th>\n",
       "      <td>Doutorado</td>\n",
       "      <td>2018</td>\n",
       "      <td>Natal</td>\n",
       "      <td>3</td>\n",
       "      <td>34</td>\n",
       "      <td>Masculino</td>\n",
       "      <td>Sim</td>\n",
       "      <td>5</td>\n",
       "      <td>1</td>\n",
       "      <td>0</td>\n",
       "    </tr>\n",
       "  </tbody>\n",
       "</table>\n",
       "</div>"
      ],
      "text/plain": [
       "  Escolaridade  Entrada Cidade  Salário Idade       Sexo Projeto  Experiência  \\\n",
       "0    Doutorado     2016  Natal        3    28   Feminino     Não            3   \n",
       "1    Doutorado     2014  Natal        3    36   Feminino     Não            3   \n",
       "2    Doutorado     2013  Natal        3   ---  Masculino     Não            0   \n",
       "3    Doutorado     2016  Natal        3   ---  Masculino     Não            2   \n",
       "4    Doutorado     2018  Natal        3    34  Masculino     Sim            5   \n",
       "\n",
       "   Saiu  Feedbacks  \n",
       "0     0          0  \n",
       "1     0          1  \n",
       "2     0          0  \n",
       "3     1          0  \n",
       "4     1          0  "
      ]
     },
     "execution_count": 2,
     "metadata": {},
     "output_type": "execute_result"
    }
   ],
   "source": [
    "treino.head()"
   ]
  },
  {
   "cell_type": "code",
   "execution_count": 3,
   "id": "7c7658d2",
   "metadata": {},
   "outputs": [
    {
     "data": {
      "text/html": [
       "<div>\n",
       "<style scoped>\n",
       "    .dataframe tbody tr th:only-of-type {\n",
       "        vertical-align: middle;\n",
       "    }\n",
       "\n",
       "    .dataframe tbody tr th {\n",
       "        vertical-align: top;\n",
       "    }\n",
       "\n",
       "    .dataframe thead th {\n",
       "        text-align: right;\n",
       "    }\n",
       "</style>\n",
       "<table border=\"1\" class=\"dataframe\">\n",
       "  <thead>\n",
       "    <tr style=\"text-align: right;\">\n",
       "      <th></th>\n",
       "      <th>Entrada</th>\n",
       "      <th>Salário</th>\n",
       "      <th>Experiência</th>\n",
       "      <th>Saiu</th>\n",
       "      <th>Feedbacks</th>\n",
       "    </tr>\n",
       "  </thead>\n",
       "  <tbody>\n",
       "    <tr>\n",
       "      <th>Entrada</th>\n",
       "      <td>1.000000</td>\n",
       "      <td>-0.076582</td>\n",
       "      <td>-0.023939</td>\n",
       "      <td>0.152780</td>\n",
       "      <td>-0.008268</td>\n",
       "    </tr>\n",
       "    <tr>\n",
       "      <th>Salário</th>\n",
       "      <td>-0.076582</td>\n",
       "      <td>1.000000</td>\n",
       "      <td>0.003109</td>\n",
       "      <td>-0.182883</td>\n",
       "      <td>-0.012881</td>\n",
       "    </tr>\n",
       "    <tr>\n",
       "      <th>Experiência</th>\n",
       "      <td>-0.023939</td>\n",
       "      <td>0.003109</td>\n",
       "      <td>1.000000</td>\n",
       "      <td>-0.001677</td>\n",
       "      <td>0.013210</td>\n",
       "    </tr>\n",
       "    <tr>\n",
       "      <th>Saiu</th>\n",
       "      <td>0.152780</td>\n",
       "      <td>-0.182883</td>\n",
       "      <td>-0.001677</td>\n",
       "      <td>1.000000</td>\n",
       "      <td>0.015026</td>\n",
       "    </tr>\n",
       "    <tr>\n",
       "      <th>Feedbacks</th>\n",
       "      <td>-0.008268</td>\n",
       "      <td>-0.012881</td>\n",
       "      <td>0.013210</td>\n",
       "      <td>0.015026</td>\n",
       "      <td>1.000000</td>\n",
       "    </tr>\n",
       "  </tbody>\n",
       "</table>\n",
       "</div>"
      ],
      "text/plain": [
       "              Entrada   Salário  Experiência      Saiu  Feedbacks\n",
       "Entrada      1.000000 -0.076582    -0.023939  0.152780  -0.008268\n",
       "Salário     -0.076582  1.000000     0.003109 -0.182883  -0.012881\n",
       "Experiência -0.023939  0.003109     1.000000 -0.001677   0.013210\n",
       "Saiu         0.152780 -0.182883    -0.001677  1.000000   0.015026\n",
       "Feedbacks   -0.008268 -0.012881     0.013210  0.015026   1.000000"
      ]
     },
     "execution_count": 3,
     "metadata": {},
     "output_type": "execute_result"
    }
   ],
   "source": [
    "treino.corr()"
   ]
  },
  {
   "cell_type": "code",
   "execution_count": 4,
   "id": "49336f05",
   "metadata": {},
   "outputs": [
    {
     "data": {
      "text/plain": [
       "(1737, 9)"
      ]
     },
     "execution_count": 4,
     "metadata": {},
     "output_type": "execute_result"
    }
   ],
   "source": [
    "teste.shape"
   ]
  },
  {
   "cell_type": "code",
   "execution_count": 5,
   "id": "ceed8f1d",
   "metadata": {},
   "outputs": [
    {
     "data": {
      "text/plain": [
       "(2916, 10)"
      ]
     },
     "execution_count": 5,
     "metadata": {},
     "output_type": "execute_result"
    }
   ],
   "source": [
    "treino.shape"
   ]
  },
  {
   "cell_type": "code",
   "execution_count": 6,
   "id": "0c4f53d7",
   "metadata": {},
   "outputs": [],
   "source": [
    "# substituição dos valores de Escolaridade\n",
    "treino.loc[treino['Escolaridade'] == '---','Escolaridade']=0\n",
    "teste.loc[teste['Escolaridade'] == '---','Escolaridade']=0\n",
    "treino.loc[treino['Escolaridade'] == 'Doutorado','Escolaridade']=1\n",
    "teste.loc[teste['Escolaridade'] == 'Doutorado','Escolaridade']=1"
   ]
  },
  {
   "cell_type": "code",
   "execution_count": 7,
   "id": "eee10fee",
   "metadata": {},
   "outputs": [],
   "source": [
    "# criando uma função para localizar o ano de entrada\n",
    "def loc_entrada_treino(x):\n",
    "    y = treino['Entrada'].iloc[x]\n",
    "    return y\n",
    "\n",
    "def loc_entrada_teste(x):\n",
    "    y = teste['Entrada'].iloc[x]\n",
    "    return y"
   ]
  },
  {
   "cell_type": "code",
   "execution_count": 8,
   "id": "5424655f",
   "metadata": {},
   "outputs": [],
   "source": [
    "# cria uma nova coluna para identificar o tempo de Permanencia na empresa\n",
    "treino['Permanencia'] = 0\n",
    "teste['Permanencia'] = 0"
   ]
  },
  {
   "cell_type": "code",
   "execution_count": 9,
   "id": "10e0fe61",
   "metadata": {},
   "outputs": [],
   "source": [
    "# cria função para inserir valores na variável Permanencia\n",
    "def alter_entrada_treino(x):\n",
    "    z = (2021 - loc_entrada_treino(x))*2\n",
    "    return z\n",
    "\n",
    "def alter_entrada_teste(x):\n",
    "    z = (2021 - loc_entrada_teste(x))*2\n",
    "    return z"
   ]
  },
  {
   "cell_type": "code",
   "execution_count": 10,
   "id": "b49bc18b",
   "metadata": {},
   "outputs": [],
   "source": [
    "# cria função para inserir valores na variável Permanencia\n",
    "def alter_entrada_treino(x):\n",
    "    z = 2021 - loc_entrada_treino(x)\n",
    "    return z"
   ]
  },
  {
   "cell_type": "code",
   "execution_count": 11,
   "id": "60fb4a61",
   "metadata": {},
   "outputs": [],
   "source": [
    "# cria função para inserir valores na variável Permanencia\n",
    "def alter_entrada_teste(x):\n",
    "    p = 2021 - loc_entrada_teste(x)\n",
    "    return p"
   ]
  },
  {
   "cell_type": "code",
   "execution_count": 12,
   "id": "34243972",
   "metadata": {},
   "outputs": [
    {
     "name": "stderr",
     "output_type": "stream",
     "text": [
      "c:\\python\\lib\\site-packages\\pandas\\core\\indexing.py:670: SettingWithCopyWarning: \n",
      "A value is trying to be set on a copy of a slice from a DataFrame\n",
      "\n",
      "See the caveats in the documentation: https://pandas.pydata.org/pandas-docs/stable/user_guide/indexing.html#returning-a-view-versus-a-copy\n",
      "  iloc._setitem_with_indexer(indexer, value)\n"
     ]
    }
   ],
   "source": [
    "#inserindo valores na variável permanencia da base treino\n",
    "q = len(treino)\n",
    "r = list(range(0,q))\n",
    "for x in r:\n",
    "    treino['Permanencia'].iloc[x] = alter_entrada_treino(x)"
   ]
  },
  {
   "cell_type": "code",
   "execution_count": 13,
   "id": "9fb204f3",
   "metadata": {},
   "outputs": [],
   "source": [
    "#inserindo valores na variável permanencia da base teste\n",
    "f = len(teste)\n",
    "g = list(range(0,f))\n",
    "for x in g:\n",
    "    teste['Permanencia'].iloc[x] = alter_entrada_teste(x)"
   ]
  },
  {
   "cell_type": "code",
   "execution_count": 14,
   "id": "4e1b8f71",
   "metadata": {},
   "outputs": [],
   "source": [
    "#deletando as colunas entrada da base treino e teste\n",
    "treino = treino.drop(columns=['Entrada'])\n",
    "teste = teste.drop(columns=['Entrada'])"
   ]
  },
  {
   "cell_type": "code",
   "execution_count": 15,
   "id": "528699e8",
   "metadata": {},
   "outputs": [],
   "source": [
    "# transformando as variáveis categóricas\n",
    "treino = pd.get_dummies(treino, columns = ['Cidade'], dtype=int)\n",
    "teste = pd.get_dummies(teste, columns = ['Cidade'], dtype=int)"
   ]
  },
  {
   "cell_type": "code",
   "execution_count": 16,
   "id": "67a075f9",
   "metadata": {},
   "outputs": [],
   "source": [
    "# substituição dos valores de Salário\n",
    "teste.loc[teste['Salário'] == 1,'Salário']='A'\n",
    "treino.loc[treino['Salário'] == 1,'Salário']='A'\n",
    "teste.loc[teste['Salário'] == 3,'Salário']=1\n",
    "treino.loc[treino['Salário'] == 3,'Salário']=1\n",
    "teste.loc[teste['Salário'] == 'A','Salário']=3\n",
    "treino.loc[treino['Salário'] == 'A','Salário']=3"
   ]
  },
  {
   "cell_type": "code",
   "execution_count": 17,
   "id": "45f2662a",
   "metadata": {},
   "outputs": [],
   "source": [
    "#transforma os string em numérico\n",
    "treino.loc[treino['Idade'] == '---','Idade']=0\n",
    "teste.loc[teste['Idade'] == '---','Idade']=0"
   ]
  },
  {
   "cell_type": "code",
   "execution_count": 18,
   "id": "7455f445",
   "metadata": {},
   "outputs": [],
   "source": [
    "#converte o tipo da variável\n",
    "treino['Idade'] = treino['Idade'].astype('int')\n",
    "teste['Idade'] = teste['Idade'].astype('int')"
   ]
  },
  {
   "cell_type": "code",
   "execution_count": 19,
   "id": "932cb99b",
   "metadata": {},
   "outputs": [],
   "source": [
    "# faz a normalização dos dados\n",
    "a = int(treino['Idade'].median())\n",
    "b = int(teste['Idade'].median())\n",
    "\n",
    "treino.loc[treino['Idade'] == 0,'Idade']=a\n",
    "teste.loc[teste['Idade'] == 0,'Idade']=b"
   ]
  },
  {
   "cell_type": "code",
   "execution_count": 20,
   "id": "33060cb5",
   "metadata": {},
   "outputs": [],
   "source": [
    "#transformando variável sexo\n",
    "treino.loc[treino['Sexo'] == 'Masculino','Sexo']=0\n",
    "teste.loc[teste['Sexo'] == 'Masculino','Sexo']=0\n",
    "treino.loc[treino['Sexo'] == 'Feminino','Sexo']=1\n",
    "teste.loc[teste['Sexo'] == 'Feminino','Sexo']=1"
   ]
  },
  {
   "cell_type": "code",
   "execution_count": 21,
   "id": "0f57a9f1",
   "metadata": {},
   "outputs": [],
   "source": [
    "#transformando variável projetos\n",
    "treino.loc[treino['Projeto'] == '---','Projeto']='ausente'\n",
    "teste.loc[teste['Projeto'] == '---','Projeto']='ausente'"
   ]
  },
  {
   "cell_type": "code",
   "execution_count": 22,
   "id": "76b3d66a",
   "metadata": {},
   "outputs": [],
   "source": [
    "# transformando as variáveis categóricas\n",
    "treino = pd.get_dummies(treino, columns = ['Projeto'], dtype=int)\n",
    "teste = pd.get_dummies(teste, columns = ['Projeto'], dtype=int)"
   ]
  },
  {
   "cell_type": "code",
   "execution_count": 23,
   "id": "b19df559",
   "metadata": {},
   "outputs": [],
   "source": [
    "# substituição dos valores de feedback\n",
    "teste.loc[teste['Feedbacks'] == 0,'Feedbacks']='A'\n",
    "treino.loc[treino['Feedbacks'] == 0,'Feedbacks']='A'\n",
    "teste.loc[teste['Feedbacks'] == 1,'Feedbacks']='B'\n",
    "treino.loc[treino['Feedbacks'] == 1,'Feedbacks']='B'\n",
    "teste.loc[teste['Feedbacks'] == 3,'Feedbacks']=1\n",
    "treino.loc[treino['Feedbacks'] == 3,'Feedbacks']=1\n",
    "teste.loc[teste['Feedbacks'] == 4,'Feedbacks']=0\n",
    "treino.loc[treino['Feedbacks'] == 4,'Feedbacks']=0\n",
    "teste.loc[teste['Feedbacks'] == 'A','Feedbacks']=4\n",
    "treino.loc[treino['Feedbacks'] == 'A','Feedbacks']=4\n",
    "teste.loc[teste['Feedbacks'] == 'B','Feedbacks']=3\n",
    "treino.loc[treino['Feedbacks'] == 'B','Feedbacks']=3"
   ]
  },
  {
   "cell_type": "code",
   "execution_count": 24,
   "id": "59073abe",
   "metadata": {},
   "outputs": [
    {
     "name": "stdout",
     "output_type": "stream",
     "text": [
      "Escolaridade          object\n",
      "Salário               object\n",
      "Idade                  int32\n",
      "Sexo                  object\n",
      "Experiência            int64\n",
      "Saiu                   int64\n",
      "Feedbacks             object\n",
      "Permanencia            int64\n",
      "Cidade_João Pessoa     int32\n",
      "Cidade_Natal           int32\n",
      "Cidade_Recife          int32\n",
      "Projeto_Não            int32\n",
      "Projeto_Sim            int32\n",
      "Projeto_ausente        int32\n",
      "dtype: object\n"
     ]
    }
   ],
   "source": [
    "print(treino.dtypes)"
   ]
  },
  {
   "cell_type": "code",
   "execution_count": 25,
   "id": "293805ab",
   "metadata": {},
   "outputs": [],
   "source": [
    "#converter as variáveis em numéricos\n",
    "treino['Escolaridade'] = treino['Escolaridade'].astype('int')\n",
    "teste['Escolaridade'] = teste['Escolaridade'].astype('int')\n",
    "treino['Salário'] = treino['Salário'].astype('int')\n",
    "teste['Salário'] = teste['Salário'].astype('int')\n",
    "treino['Sexo'] = treino['Sexo'].astype('int')\n",
    "teste['Sexo'] = teste['Sexo'].astype('int')\n",
    "treino['Feedbacks'] = treino['Feedbacks'].astype('int')\n",
    "teste['Feedbacks'] = teste['Feedbacks'].astype('int')"
   ]
  },
  {
   "cell_type": "code",
   "execution_count": 26,
   "id": "e07317f0",
   "metadata": {},
   "outputs": [
    {
     "data": {
      "text/plain": [
       "0    1820\n",
       "1    1096\n",
       "Name: Saiu, dtype: int64"
      ]
     },
     "execution_count": 26,
     "metadata": {},
     "output_type": "execute_result"
    }
   ],
   "source": [
    "treino['Saiu'].value_counts()"
   ]
  },
  {
   "cell_type": "code",
   "execution_count": 27,
   "id": "68ee3e5f",
   "metadata": {},
   "outputs": [],
   "source": [
    "# realiza o balanceamento das bases\n",
    "um  = treino[treino['Salário']==1]   #zero values in outcome column\n",
    "dois = treino[treino['Salário']==2]  # one values in outcome column\n",
    "tres = treino[treino['Salário']==3]\n",
    "from sklearn.utils import resample\n",
    "df_minority_um = resample(um, replace = True, n_samples = 2189) \n",
    "df_minority_dois = resample(dois, replace = True, n_samples = 1164)\n",
    "df_minority_tres = resample(tres, replace = True, n_samples = 600) \n",
    "\n",
    "# concatena as variáveis \"zero\" e \"one\"\n",
    "treino2 = pd.concat([um, df_minority_dois])\n",
    "treino3 = pd.concat([treino2, df_minority_tres])\n",
    "\n",
    "# realiza um ordenamento aleatório das variáveis\n",
    "from sklearn.utils import shuffle\n",
    "treino = shuffle(treino)"
   ]
  },
  {
   "cell_type": "code",
   "execution_count": 28,
   "id": "83ff6323",
   "metadata": {
    "scrolled": false
   },
   "outputs": [
    {
     "data": {
      "text/plain": [
       "1    2189\n",
       "2    1164\n",
       "3     600\n",
       "Name: Salário, dtype: int64"
      ]
     },
     "execution_count": 28,
     "metadata": {},
     "output_type": "execute_result"
    }
   ],
   "source": [
    "treino3['Salário'].value_counts()"
   ]
  },
  {
   "cell_type": "code",
   "execution_count": 29,
   "id": "08a46594",
   "metadata": {
    "scrolled": true
   },
   "outputs": [
    {
     "data": {
      "text/plain": [
       "1    2189\n",
       "2    1164\n",
       "3     600\n",
       "Name: Salário, dtype: int64"
      ]
     },
     "execution_count": 29,
     "metadata": {},
     "output_type": "execute_result"
    }
   ],
   "source": [
    "treino = treino3\n",
    "treino['Salário'].value_counts()"
   ]
  },
  {
   "cell_type": "code",
   "execution_count": 30,
   "id": "5b3f4a1d",
   "metadata": {},
   "outputs": [],
   "source": [
    "#Criando variaveis independentes e dependentes\n",
    "\n",
    "X = treino\n",
    "X = treino.drop('Saiu',axis=1)\n",
    "y = treino['Saiu']\n",
    "\n",
    "X_teste = teste"
   ]
  },
  {
   "cell_type": "code",
   "execution_count": 31,
   "id": "3148813e",
   "metadata": {
    "scrolled": true
   },
   "outputs": [
    {
     "data": {
      "text/html": [
       "<div>\n",
       "<style scoped>\n",
       "    .dataframe tbody tr th:only-of-type {\n",
       "        vertical-align: middle;\n",
       "    }\n",
       "\n",
       "    .dataframe tbody tr th {\n",
       "        vertical-align: top;\n",
       "    }\n",
       "\n",
       "    .dataframe thead th {\n",
       "        text-align: right;\n",
       "    }\n",
       "</style>\n",
       "<table border=\"1\" class=\"dataframe\">\n",
       "  <thead>\n",
       "    <tr style=\"text-align: right;\">\n",
       "      <th></th>\n",
       "      <th>Escolaridade</th>\n",
       "      <th>Salário</th>\n",
       "      <th>Idade</th>\n",
       "      <th>Sexo</th>\n",
       "      <th>Experiência</th>\n",
       "      <th>Feedbacks</th>\n",
       "      <th>Permanencia</th>\n",
       "      <th>Cidade_João Pessoa</th>\n",
       "      <th>Cidade_Natal</th>\n",
       "      <th>Cidade_Recife</th>\n",
       "      <th>Projeto_Não</th>\n",
       "      <th>Projeto_Sim</th>\n",
       "      <th>Projeto_ausente</th>\n",
       "    </tr>\n",
       "  </thead>\n",
       "  <tbody>\n",
       "    <tr>\n",
       "      <th>894</th>\n",
       "      <td>1</td>\n",
       "      <td>1</td>\n",
       "      <td>28</td>\n",
       "      <td>0</td>\n",
       "      <td>1</td>\n",
       "      <td>4</td>\n",
       "      <td>3</td>\n",
       "      <td>1</td>\n",
       "      <td>0</td>\n",
       "      <td>0</td>\n",
       "      <td>1</td>\n",
       "      <td>0</td>\n",
       "      <td>0</td>\n",
       "    </tr>\n",
       "    <tr>\n",
       "      <th>2663</th>\n",
       "      <td>1</td>\n",
       "      <td>1</td>\n",
       "      <td>35</td>\n",
       "      <td>0</td>\n",
       "      <td>2</td>\n",
       "      <td>4</td>\n",
       "      <td>4</td>\n",
       "      <td>1</td>\n",
       "      <td>0</td>\n",
       "      <td>0</td>\n",
       "      <td>0</td>\n",
       "      <td>0</td>\n",
       "      <td>1</td>\n",
       "    </tr>\n",
       "    <tr>\n",
       "      <th>333</th>\n",
       "      <td>1</td>\n",
       "      <td>1</td>\n",
       "      <td>34</td>\n",
       "      <td>0</td>\n",
       "      <td>3</td>\n",
       "      <td>4</td>\n",
       "      <td>4</td>\n",
       "      <td>0</td>\n",
       "      <td>0</td>\n",
       "      <td>1</td>\n",
       "      <td>1</td>\n",
       "      <td>0</td>\n",
       "      <td>0</td>\n",
       "    </tr>\n",
       "    <tr>\n",
       "      <th>1225</th>\n",
       "      <td>1</td>\n",
       "      <td>1</td>\n",
       "      <td>24</td>\n",
       "      <td>0</td>\n",
       "      <td>2</td>\n",
       "      <td>4</td>\n",
       "      <td>3</td>\n",
       "      <td>0</td>\n",
       "      <td>0</td>\n",
       "      <td>1</td>\n",
       "      <td>1</td>\n",
       "      <td>0</td>\n",
       "      <td>0</td>\n",
       "    </tr>\n",
       "    <tr>\n",
       "      <th>784</th>\n",
       "      <td>1</td>\n",
       "      <td>1</td>\n",
       "      <td>26</td>\n",
       "      <td>0</td>\n",
       "      <td>4</td>\n",
       "      <td>4</td>\n",
       "      <td>6</td>\n",
       "      <td>1</td>\n",
       "      <td>0</td>\n",
       "      <td>0</td>\n",
       "      <td>1</td>\n",
       "      <td>0</td>\n",
       "      <td>0</td>\n",
       "    </tr>\n",
       "    <tr>\n",
       "      <th>...</th>\n",
       "      <td>...</td>\n",
       "      <td>...</td>\n",
       "      <td>...</td>\n",
       "      <td>...</td>\n",
       "      <td>...</td>\n",
       "      <td>...</td>\n",
       "      <td>...</td>\n",
       "      <td>...</td>\n",
       "      <td>...</td>\n",
       "      <td>...</td>\n",
       "      <td>...</td>\n",
       "      <td>...</td>\n",
       "      <td>...</td>\n",
       "    </tr>\n",
       "    <tr>\n",
       "      <th>1197</th>\n",
       "      <td>1</td>\n",
       "      <td>1</td>\n",
       "      <td>24</td>\n",
       "      <td>0</td>\n",
       "      <td>2</td>\n",
       "      <td>4</td>\n",
       "      <td>9</td>\n",
       "      <td>1</td>\n",
       "      <td>0</td>\n",
       "      <td>0</td>\n",
       "      <td>1</td>\n",
       "      <td>0</td>\n",
       "      <td>0</td>\n",
       "    </tr>\n",
       "    <tr>\n",
       "      <th>1681</th>\n",
       "      <td>1</td>\n",
       "      <td>3</td>\n",
       "      <td>27</td>\n",
       "      <td>1</td>\n",
       "      <td>4</td>\n",
       "      <td>4</td>\n",
       "      <td>8</td>\n",
       "      <td>1</td>\n",
       "      <td>0</td>\n",
       "      <td>0</td>\n",
       "      <td>1</td>\n",
       "      <td>0</td>\n",
       "      <td>0</td>\n",
       "    </tr>\n",
       "    <tr>\n",
       "      <th>1451</th>\n",
       "      <td>1</td>\n",
       "      <td>1</td>\n",
       "      <td>40</td>\n",
       "      <td>0</td>\n",
       "      <td>0</td>\n",
       "      <td>4</td>\n",
       "      <td>7</td>\n",
       "      <td>0</td>\n",
       "      <td>1</td>\n",
       "      <td>0</td>\n",
       "      <td>1</td>\n",
       "      <td>0</td>\n",
       "      <td>0</td>\n",
       "    </tr>\n",
       "    <tr>\n",
       "      <th>301</th>\n",
       "      <td>0</td>\n",
       "      <td>1</td>\n",
       "      <td>26</td>\n",
       "      <td>1</td>\n",
       "      <td>4</td>\n",
       "      <td>4</td>\n",
       "      <td>9</td>\n",
       "      <td>0</td>\n",
       "      <td>1</td>\n",
       "      <td>0</td>\n",
       "      <td>1</td>\n",
       "      <td>0</td>\n",
       "      <td>0</td>\n",
       "    </tr>\n",
       "    <tr>\n",
       "      <th>1410</th>\n",
       "      <td>1</td>\n",
       "      <td>1</td>\n",
       "      <td>36</td>\n",
       "      <td>0</td>\n",
       "      <td>3</td>\n",
       "      <td>3</td>\n",
       "      <td>7</td>\n",
       "      <td>0</td>\n",
       "      <td>1</td>\n",
       "      <td>0</td>\n",
       "      <td>0</td>\n",
       "      <td>1</td>\n",
       "      <td>0</td>\n",
       "    </tr>\n",
       "  </tbody>\n",
       "</table>\n",
       "<p>2767 rows × 13 columns</p>\n",
       "</div>"
      ],
      "text/plain": [
       "      Escolaridade  Salário  Idade  Sexo  Experiência  Feedbacks  Permanencia  \\\n",
       "894              1        1     28     0            1          4            3   \n",
       "2663             1        1     35     0            2          4            4   \n",
       "333              1        1     34     0            3          4            4   \n",
       "1225             1        1     24     0            2          4            3   \n",
       "784              1        1     26     0            4          4            6   \n",
       "...            ...      ...    ...   ...          ...        ...          ...   \n",
       "1197             1        1     24     0            2          4            9   \n",
       "1681             1        3     27     1            4          4            8   \n",
       "1451             1        1     40     0            0          4            7   \n",
       "301              0        1     26     1            4          4            9   \n",
       "1410             1        1     36     0            3          3            7   \n",
       "\n",
       "      Cidade_João Pessoa  Cidade_Natal  Cidade_Recife  Projeto_Não  \\\n",
       "894                    1             0              0            1   \n",
       "2663                   1             0              0            0   \n",
       "333                    0             0              1            1   \n",
       "1225                   0             0              1            1   \n",
       "784                    1             0              0            1   \n",
       "...                  ...           ...            ...          ...   \n",
       "1197                   1             0              0            1   \n",
       "1681                   1             0              0            1   \n",
       "1451                   0             1              0            1   \n",
       "301                    0             1              0            1   \n",
       "1410                   0             1              0            0   \n",
       "\n",
       "      Projeto_Sim  Projeto_ausente  \n",
       "894             0                0  \n",
       "2663            0                1  \n",
       "333             0                0  \n",
       "1225            0                0  \n",
       "784             0                0  \n",
       "...           ...              ...  \n",
       "1197            0                0  \n",
       "1681            0                0  \n",
       "1451            0                0  \n",
       "301             0                0  \n",
       "1410            1                0  \n",
       "\n",
       "[2767 rows x 13 columns]"
      ]
     },
     "execution_count": 31,
     "metadata": {},
     "output_type": "execute_result"
    }
   ],
   "source": [
    "# Separando em dados teste e treinamento \n",
    "from sklearn.model_selection import train_test_split \n",
    "\n",
    "x_treino, x_teste, y_treino, y_teste  = train_test_split(X, y, test_size = 0.3,random_state = 1)\n",
    "x_treino"
   ]
  },
  {
   "cell_type": "code",
   "execution_count": 32,
   "id": "0e270e32",
   "metadata": {
    "scrolled": true
   },
   "outputs": [
    {
     "data": {
      "text/plain": [
       "<AxesSubplot:>"
      ]
     },
     "execution_count": 32,
     "metadata": {},
     "output_type": "execute_result"
    },
    {
     "data": {
      "image/png": "[encoded data removed]",
      "text/plain": [
       "<Figure size 432x288 with 2 Axes>"
      ]
     },
     "metadata": {
      "needs_background": "light"
     },
     "output_type": "display_data"
    }
   ],
   "source": [
    "import seaborn as sn\n",
    "correlation = treino.corr()\n",
    "plot = sn.heatmap(correlation, annot = True, fmt=\".1f\", linewidths=.6)\n",
    "plot"
   ]
  },
  {
   "cell_type": "code",
   "execution_count": 33,
   "id": "2fd7ce51",
   "metadata": {},
   "outputs": [
    {
     "data": {
      "text/html": [
       "<div>\n",
       "<style scoped>\n",
       "    .dataframe tbody tr th:only-of-type {\n",
       "        vertical-align: middle;\n",
       "    }\n",
       "\n",
       "    .dataframe tbody tr th {\n",
       "        vertical-align: top;\n",
       "    }\n",
       "\n",
       "    .dataframe thead th {\n",
       "        text-align: right;\n",
       "    }\n",
       "</style>\n",
       "<table border=\"1\" class=\"dataframe\">\n",
       "  <thead>\n",
       "    <tr style=\"text-align: right;\">\n",
       "      <th></th>\n",
       "      <th>Escolaridade</th>\n",
       "      <th>Salário</th>\n",
       "      <th>Idade</th>\n",
       "      <th>Sexo</th>\n",
       "      <th>Experiência</th>\n",
       "      <th>Saiu</th>\n",
       "      <th>Feedbacks</th>\n",
       "      <th>Permanencia</th>\n",
       "      <th>Cidade_João Pessoa</th>\n",
       "      <th>Cidade_Natal</th>\n",
       "      <th>Cidade_Recife</th>\n",
       "      <th>Projeto_Não</th>\n",
       "      <th>Projeto_Sim</th>\n",
       "      <th>Projeto_ausente</th>\n",
       "    </tr>\n",
       "  </thead>\n",
       "  <tbody>\n",
       "    <tr>\n",
       "      <th>Escolaridade</th>\n",
       "      <td>1.000000</td>\n",
       "      <td>-0.017344</td>\n",
       "      <td>-0.040111</td>\n",
       "      <td>0.050338</td>\n",
       "      <td>0.002872</td>\n",
       "      <td>0.024457</td>\n",
       "      <td>-0.009182</td>\n",
       "      <td>0.036822</td>\n",
       "      <td>0.036421</td>\n",
       "      <td>-0.030522</td>\n",
       "      <td>-0.004598</td>\n",
       "      <td>0.037513</td>\n",
       "      <td>-0.059914</td>\n",
       "      <td>0.004861</td>\n",
       "    </tr>\n",
       "    <tr>\n",
       "      <th>Salário</th>\n",
       "      <td>-0.017344</td>\n",
       "      <td>1.000000</td>\n",
       "      <td>0.010056</td>\n",
       "      <td>0.240058</td>\n",
       "      <td>-0.025965</td>\n",
       "      <td>0.156231</td>\n",
       "      <td>-0.006181</td>\n",
       "      <td>-0.019136</td>\n",
       "      <td>0.211494</td>\n",
       "      <td>-0.269378</td>\n",
       "      <td>0.075767</td>\n",
       "      <td>-0.032585</td>\n",
       "      <td>-0.017273</td>\n",
       "      <td>0.053642</td>\n",
       "    </tr>\n",
       "    <tr>\n",
       "      <th>Idade</th>\n",
       "      <td>-0.040111</td>\n",
       "      <td>0.010056</td>\n",
       "      <td>1.000000</td>\n",
       "      <td>-0.046062</td>\n",
       "      <td>-0.152102</td>\n",
       "      <td>-0.061102</td>\n",
       "      <td>0.016239</td>\n",
       "      <td>0.001172</td>\n",
       "      <td>-0.032823</td>\n",
       "      <td>0.072753</td>\n",
       "      <td>-0.046173</td>\n",
       "      <td>-0.011972</td>\n",
       "      <td>0.002159</td>\n",
       "      <td>0.012608</td>\n",
       "    </tr>\n",
       "    <tr>\n",
       "      <th>Sexo</th>\n",
       "      <td>0.050338</td>\n",
       "      <td>0.240058</td>\n",
       "      <td>-0.046062</td>\n",
       "      <td>1.000000</td>\n",
       "      <td>0.019921</td>\n",
       "      <td>0.235063</td>\n",
       "      <td>-0.022030</td>\n",
       "      <td>0.011158</td>\n",
       "      <td>0.174535</td>\n",
       "      <td>-0.229164</td>\n",
       "      <td>0.070155</td>\n",
       "      <td>0.001872</td>\n",
       "      <td>-0.021464</td>\n",
       "      <td>0.015665</td>\n",
       "    </tr>\n",
       "    <tr>\n",
       "      <th>Experiência</th>\n",
       "      <td>0.002872</td>\n",
       "      <td>-0.025965</td>\n",
       "      <td>-0.152102</td>\n",
       "      <td>0.019921</td>\n",
       "      <td>1.000000</td>\n",
       "      <td>0.005481</td>\n",
       "      <td>0.001746</td>\n",
       "      <td>0.020052</td>\n",
       "      <td>0.002402</td>\n",
       "      <td>0.005426</td>\n",
       "      <td>-0.008576</td>\n",
       "      <td>-0.010033</td>\n",
       "      <td>-0.017810</td>\n",
       "      <td>0.026944</td>\n",
       "    </tr>\n",
       "    <tr>\n",
       "      <th>Saiu</th>\n",
       "      <td>0.024457</td>\n",
       "      <td>0.156231</td>\n",
       "      <td>-0.061102</td>\n",
       "      <td>0.235063</td>\n",
       "      <td>0.005481</td>\n",
       "      <td>1.000000</td>\n",
       "      <td>-0.038483</td>\n",
       "      <td>-0.073988</td>\n",
       "      <td>0.229754</td>\n",
       "      <td>-0.154235</td>\n",
       "      <td>-0.071602</td>\n",
       "      <td>-0.010890</td>\n",
       "      <td>0.050648</td>\n",
       "      <td>-0.029172</td>\n",
       "    </tr>\n",
       "    <tr>\n",
       "      <th>Feedbacks</th>\n",
       "      <td>-0.009182</td>\n",
       "      <td>-0.006181</td>\n",
       "      <td>0.016239</td>\n",
       "      <td>-0.022030</td>\n",
       "      <td>0.001746</td>\n",
       "      <td>-0.038483</td>\n",
       "      <td>1.000000</td>\n",
       "      <td>0.007437</td>\n",
       "      <td>-0.021213</td>\n",
       "      <td>0.013814</td>\n",
       "      <td>0.007086</td>\n",
       "      <td>0.000968</td>\n",
       "      <td>-0.006826</td>\n",
       "      <td>0.004533</td>\n",
       "    </tr>\n",
       "    <tr>\n",
       "      <th>Permanencia</th>\n",
       "      <td>0.036822</td>\n",
       "      <td>-0.019136</td>\n",
       "      <td>0.001172</td>\n",
       "      <td>0.011158</td>\n",
       "      <td>0.020052</td>\n",
       "      <td>-0.073988</td>\n",
       "      <td>0.007437</td>\n",
       "      <td>1.000000</td>\n",
       "      <td>0.058091</td>\n",
       "      <td>0.106010</td>\n",
       "      <td>-0.179362</td>\n",
       "      <td>0.015731</td>\n",
       "      <td>-0.046483</td>\n",
       "      <td>0.019867</td>\n",
       "    </tr>\n",
       "    <tr>\n",
       "      <th>Cidade_João Pessoa</th>\n",
       "      <td>0.036421</td>\n",
       "      <td>0.211494</td>\n",
       "      <td>-0.032823</td>\n",
       "      <td>0.174535</td>\n",
       "      <td>0.002402</td>\n",
       "      <td>0.229754</td>\n",
       "      <td>-0.021213</td>\n",
       "      <td>0.058091</td>\n",
       "      <td>1.000000</td>\n",
       "      <td>-0.576340</td>\n",
       "      <td>-0.417255</td>\n",
       "      <td>0.032400</td>\n",
       "      <td>-0.006029</td>\n",
       "      <td>-0.033967</td>\n",
       "    </tr>\n",
       "    <tr>\n",
       "      <th>Cidade_Natal</th>\n",
       "      <td>-0.030522</td>\n",
       "      <td>-0.269378</td>\n",
       "      <td>0.072753</td>\n",
       "      <td>-0.229164</td>\n",
       "      <td>0.005426</td>\n",
       "      <td>-0.154235</td>\n",
       "      <td>0.013814</td>\n",
       "      <td>0.106010</td>\n",
       "      <td>-0.576340</td>\n",
       "      <td>1.000000</td>\n",
       "      <td>-0.502191</td>\n",
       "      <td>-0.031801</td>\n",
       "      <td>0.049263</td>\n",
       "      <td>-0.002845</td>\n",
       "    </tr>\n",
       "    <tr>\n",
       "      <th>Cidade_Recife</th>\n",
       "      <td>-0.004598</td>\n",
       "      <td>0.075767</td>\n",
       "      <td>-0.046173</td>\n",
       "      <td>0.070155</td>\n",
       "      <td>-0.008576</td>\n",
       "      <td>-0.071602</td>\n",
       "      <td>0.007086</td>\n",
       "      <td>-0.179362</td>\n",
       "      <td>-0.417255</td>\n",
       "      <td>-0.502191</td>\n",
       "      <td>1.000000</td>\n",
       "      <td>0.001080</td>\n",
       "      <td>-0.048404</td>\n",
       "      <td>0.039107</td>\n",
       "    </tr>\n",
       "    <tr>\n",
       "      <th>Projeto_Não</th>\n",
       "      <td>0.037513</td>\n",
       "      <td>-0.032585</td>\n",
       "      <td>-0.011972</td>\n",
       "      <td>0.001872</td>\n",
       "      <td>-0.010033</td>\n",
       "      <td>-0.010890</td>\n",
       "      <td>0.000968</td>\n",
       "      <td>0.015731</td>\n",
       "      <td>0.032400</td>\n",
       "      <td>-0.031801</td>\n",
       "      <td>0.001080</td>\n",
       "      <td>1.000000</td>\n",
       "      <td>-0.570129</td>\n",
       "      <td>-0.727767</td>\n",
       "    </tr>\n",
       "    <tr>\n",
       "      <th>Projeto_Sim</th>\n",
       "      <td>-0.059914</td>\n",
       "      <td>-0.017273</td>\n",
       "      <td>0.002159</td>\n",
       "      <td>-0.021464</td>\n",
       "      <td>-0.017810</td>\n",
       "      <td>0.050648</td>\n",
       "      <td>-0.006826</td>\n",
       "      <td>-0.046483</td>\n",
       "      <td>-0.006029</td>\n",
       "      <td>0.049263</td>\n",
       "      <td>-0.048404</td>\n",
       "      <td>-0.570129</td>\n",
       "      <td>1.000000</td>\n",
       "      <td>-0.148522</td>\n",
       "    </tr>\n",
       "    <tr>\n",
       "      <th>Projeto_ausente</th>\n",
       "      <td>0.004861</td>\n",
       "      <td>0.053642</td>\n",
       "      <td>0.012608</td>\n",
       "      <td>0.015665</td>\n",
       "      <td>0.026944</td>\n",
       "      <td>-0.029172</td>\n",
       "      <td>0.004533</td>\n",
       "      <td>0.019867</td>\n",
       "      <td>-0.033967</td>\n",
       "      <td>-0.002845</td>\n",
       "      <td>0.039107</td>\n",
       "      <td>-0.727767</td>\n",
       "      <td>-0.148522</td>\n",
       "      <td>1.000000</td>\n",
       "    </tr>\n",
       "  </tbody>\n",
       "</table>\n",
       "</div>"
      ],
      "text/plain": [
       "                    Escolaridade   Salário     Idade      Sexo  Experiência  \\\n",
       "Escolaridade            1.000000 -0.017344 -0.040111  0.050338     0.002872   \n",
       "Salário                -0.017344  1.000000  0.010056  0.240058    -0.025965   \n",
       "Idade                  -0.040111  0.010056  1.000000 -0.046062    -0.152102   \n",
       "Sexo                    0.050338  0.240058 -0.046062  1.000000     0.019921   \n",
       "Experiência             0.002872 -0.025965 -0.152102  0.019921     1.000000   \n",
       "Saiu                    0.024457  0.156231 -0.061102  0.235063     0.005481   \n",
       "Feedbacks              -0.009182 -0.006181  0.016239 -0.022030     0.001746   \n",
       "Permanencia             0.036822 -0.019136  0.001172  0.011158     0.020052   \n",
       "Cidade_João Pessoa      0.036421  0.211494 -0.032823  0.174535     0.002402   \n",
       "Cidade_Natal           -0.030522 -0.269378  0.072753 -0.229164     0.005426   \n",
       "Cidade_Recife          -0.004598  0.075767 -0.046173  0.070155    -0.008576   \n",
       "Projeto_Não             0.037513 -0.032585 -0.011972  0.001872    -0.010033   \n",
       "Projeto_Sim            -0.059914 -0.017273  0.002159 -0.021464    -0.017810   \n",
       "Projeto_ausente         0.004861  0.053642  0.012608  0.015665     0.026944   \n",
       "\n",
       "                        Saiu  Feedbacks  Permanencia  Cidade_João Pessoa  \\\n",
       "Escolaridade        0.024457  -0.009182     0.036822            0.036421   \n",
       "Salário             0.156231  -0.006181    -0.019136            0.211494   \n",
       "Idade              -0.061102   0.016239     0.001172           -0.032823   \n",
       "Sexo                0.235063  -0.022030     0.011158            0.174535   \n",
       "Experiência         0.005481   0.001746     0.020052            0.002402   \n",
       "Saiu                1.000000  -0.038483    -0.073988            0.229754   \n",
       "Feedbacks          -0.038483   1.000000     0.007437           -0.021213   \n",
       "Permanencia        -0.073988   0.007437     1.000000            0.058091   \n",
       "Cidade_João Pessoa  0.229754  -0.021213     0.058091            1.000000   \n",
       "Cidade_Natal       -0.154235   0.013814     0.106010           -0.576340   \n",
       "Cidade_Recife      -0.071602   0.007086    -0.179362           -0.417255   \n",
       "Projeto_Não        -0.010890   0.000968     0.015731            0.032400   \n",
       "Projeto_Sim         0.050648  -0.006826    -0.046483           -0.006029   \n",
       "Projeto_ausente    -0.029172   0.004533     0.019867           -0.033967   \n",
       "\n",
       "                    Cidade_Natal  Cidade_Recife  Projeto_Não  Projeto_Sim  \\\n",
       "Escolaridade           -0.030522      -0.004598     0.037513    -0.059914   \n",
       "Salário                -0.269378       0.075767    -0.032585    -0.017273   \n",
       "Idade                   0.072753      -0.046173    -0.011972     0.002159   \n",
       "Sexo                   -0.229164       0.070155     0.001872    -0.021464   \n",
       "Experiência             0.005426      -0.008576    -0.010033    -0.017810   \n",
       "Saiu                   -0.154235      -0.071602    -0.010890     0.050648   \n",
       "Feedbacks               0.013814       0.007086     0.000968    -0.006826   \n",
       "Permanencia             0.106010      -0.179362     0.015731    -0.046483   \n",
       "Cidade_João Pessoa     -0.576340      -0.417255     0.032400    -0.006029   \n",
       "Cidade_Natal            1.000000      -0.502191    -0.031801     0.049263   \n",
       "Cidade_Recife          -0.502191       1.000000     0.001080    -0.048404   \n",
       "Projeto_Não            -0.031801       0.001080     1.000000    -0.570129   \n",
       "Projeto_Sim             0.049263      -0.048404    -0.570129     1.000000   \n",
       "Projeto_ausente        -0.002845       0.039107    -0.727767    -0.148522   \n",
       "\n",
       "                    Projeto_ausente  \n",
       "Escolaridade               0.004861  \n",
       "Salário                    0.053642  \n",
       "Idade                      0.012608  \n",
       "Sexo                       0.015665  \n",
       "Experiência                0.026944  \n",
       "Saiu                      -0.029172  \n",
       "Feedbacks                  0.004533  \n",
       "Permanencia                0.019867  \n",
       "Cidade_João Pessoa        -0.033967  \n",
       "Cidade_Natal              -0.002845  \n",
       "Cidade_Recife              0.039107  \n",
       "Projeto_Não               -0.727767  \n",
       "Projeto_Sim               -0.148522  \n",
       "Projeto_ausente            1.000000  "
      ]
     },
     "execution_count": 33,
     "metadata": {},
     "output_type": "execute_result"
    }
   ],
   "source": [
    "treino.corr()"
   ]
  },
  {
   "cell_type": "code",
   "execution_count": 100,
   "id": "a82c9d6d",
   "metadata": {},
   "outputs": [],
   "source": [
    "from sklearn.linear_model import LogisticRegression\n",
    "from sklearn.tree import DecisionTreeClassifier\n",
    "from sklearn.neighbors import KNeighborsClassifier\n",
    "from sklearn.ensemble import RandomForestClassifier\n",
    "from sklearn.ensemble import BaggingClassifier \n",
    "\n",
    "from sklearn.model_selection import cross_validate\n",
    "from sklearn.model_selection import StratifiedKFold"
   ]
  },
  {
   "cell_type": "code",
   "execution_count": 101,
   "id": "38de2e13",
   "metadata": {},
   "outputs": [
    {
     "data": {
      "text/plain": [
       "RandomForestClassifier(n_estimators=1000)"
      ]
     },
     "execution_count": 101,
     "metadata": {},
     "output_type": "execute_result"
    }
   ],
   "source": [
    "modelo_base = RandomForestClassifier(n_estimators = 1000) \n",
    "modelo_base.fit(X, y)"
   ]
  },
  {
   "cell_type": "code",
   "execution_count": 102,
   "id": "8ee373c7",
   "metadata": {
    "scrolled": true
   },
   "outputs": [
    {
     "name": "stdout",
     "output_type": "stream",
     "text": [
      "Predito    0    1   All\n",
      "Real                   \n",
      "0        706   18   724\n",
      "1         32  430   462\n",
      "All      738  448  1186\n"
     ]
    }
   ],
   "source": [
    "modelo = modelo_base.predict(x_teste)\n",
    "print(pd.crosstab(y_teste,modelo, rownames=['Real'], colnames=['Predito'], margins=True))"
   ]
  },
  {
   "cell_type": "code",
   "execution_count": 103,
   "id": "aa159ab7",
   "metadata": {
    "scrolled": true
   },
   "outputs": [
    {
     "name": "stdout",
     "output_type": "stream",
     "text": [
      "              precision    recall  f1-score   support\n",
      "\n",
      "           0       0.96      0.98      0.97       724\n",
      "           1       0.96      0.93      0.95       462\n",
      "\n",
      "    accuracy                           0.96      1186\n",
      "   macro avg       0.96      0.95      0.96      1186\n",
      "weighted avg       0.96      0.96      0.96      1186\n",
      "\n"
     ]
    }
   ],
   "source": [
    "from sklearn.metrics import classification_report,confusion_matrix\n",
    "print(classification_report(y_teste, modelo))"
   ]
  },
  {
   "cell_type": "code",
   "execution_count": 104,
   "id": "97c203da",
   "metadata": {},
   "outputs": [
    {
     "name": "stdout",
     "output_type": "stream",
     "text": [
      "accuracy =  0.8247749648382559\n",
      "f1 =  0.7559589139578043\n"
     ]
    }
   ],
   "source": [
    "from sklearn.ensemble import RandomForestClassifier\n",
    "\n",
    "validacao_forest = StratifiedKFold(n_splits = 10)\n",
    "\n",
    "modelo_forest = RandomForestClassifier(n_estimators = 1000) \n",
    "\n",
    "medidas_accuracy_forest = cross_validate(modelo_forest, X, y, cv = validacao_forest, \n",
    "                                         scoring = 'accuracy')\n",
    "medidas_f1_forest = cross_validate(modelo_forest, X, y, cv = validacao_forest, \n",
    "                                   scoring = 'f1')\n",
    "print('accuracy = ', medidas_accuracy_forest['test_score'].mean())\n",
    "print('f1 = ', medidas_f1_forest['test_score'].mean())"
   ]
  },
  {
   "cell_type": "code",
   "execution_count": 105,
   "id": "6c6b1332",
   "metadata": {
    "scrolled": true
   },
   "outputs": [
    {
     "data": {
      "text/plain": [
       "RandomForestClassifier(n_estimators=1000)"
      ]
     },
     "execution_count": 105,
     "metadata": {},
     "output_type": "execute_result"
    }
   ],
   "source": [
    "modelo_forest.fit(X, y)"
   ]
  },
  {
   "cell_type": "code",
   "execution_count": 106,
   "id": "7469f5b9",
   "metadata": {},
   "outputs": [],
   "source": [
    "pred = modelo_forest.predict(teste)\n",
    "subm_bagging = pd.DataFrame()\n",
    "subm_bagging['Saiu'] = pred\n",
    "subm_bagging.to_csv('submvictor7.csv', index = False)"
   ]
  },
  {
   "cell_type": "code",
   "execution_count": 107,
   "id": "e3bd79e9",
   "metadata": {},
   "outputs": [],
   "source": [
    "subm_forest = pd.DataFrame()\n",
    "subm_forest['Saiu'] = pred"
   ]
  },
  {
   "cell_type": "code",
   "execution_count": 108,
   "id": "986aaed7",
   "metadata": {
    "scrolled": true
   },
   "outputs": [
    {
     "data": {
      "text/plain": [
       "0    1212\n",
       "1     525\n",
       "Name: Saiu, dtype: int64"
      ]
     },
     "execution_count": 108,
     "metadata": {},
     "output_type": "execute_result"
    }
   ],
   "source": [
    "subm_forest['Saiu'].value_counts()"
   ]
  },
  {
   "cell_type": "code",
   "execution_count": null,
   "id": "1fbe4ce7",
   "metadata": {},
   "outputs": [],
   "source": []
  }
 ],
 "metadata": {
  "kernelspec": {
   "display_name": "Python 3",
   "language": "python",
   "name": "python3"
  },
  "language_info": {
   "codemirror_mode": {
    "name": "ipython",
    "version": 3
   },
   "file_extension": ".py",
   "mimetype": "text/x-python",
   "name": "python",
   "nbconvert_exporter": "python",
   "pygments_lexer": "ipython3",
   "version": "3.6.6"
  }
 },
 "nbformat": 4,
 "nbformat_minor": 5
}
